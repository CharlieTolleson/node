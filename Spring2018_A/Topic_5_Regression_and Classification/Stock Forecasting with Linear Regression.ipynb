{
 "cells": [
  {
   "cell_type": "markdown",
   "metadata": {},
   "source": [
    "# Forecasting Google Stock with Multiple Linear Regression"
   ]
  },
  {
   "cell_type": "code",
   "execution_count": 1,
   "metadata": {},
   "outputs": [],
   "source": [
    "import numpy as np\n",
    "import pandas as pd"
   ]
  },
  {
   "cell_type": "code",
   "execution_count": 2,
   "metadata": {},
   "outputs": [
    {
     "data": {
      "text/html": [
       "<div>\n",
       "<style>\n",
       "    .dataframe thead tr:only-child th {\n",
       "        text-align: right;\n",
       "    }\n",
       "\n",
       "    .dataframe thead th {\n",
       "        text-align: left;\n",
       "    }\n",
       "\n",
       "    .dataframe tbody tr th {\n",
       "        vertical-align: top;\n",
       "    }\n",
       "</style>\n",
       "<table border=\"1\" class=\"dataframe\">\n",
       "  <thead>\n",
       "    <tr style=\"text-align: right;\">\n",
       "      <th></th>\n",
       "      <th>Adj. Close</th>\n",
       "      <th>HL_PCT</th>\n",
       "      <th>PCT_change</th>\n",
       "      <th>Adj. Volume</th>\n",
       "    </tr>\n",
       "    <tr>\n",
       "      <th>Date</th>\n",
       "      <th></th>\n",
       "      <th></th>\n",
       "      <th></th>\n",
       "      <th></th>\n",
       "    </tr>\n",
       "  </thead>\n",
       "  <tbody>\n",
       "    <tr>\n",
       "      <th>2004-08-19</th>\n",
       "      <td>50.322842</td>\n",
       "      <td>3.712563</td>\n",
       "      <td>0.323915</td>\n",
       "      <td>44659000.0</td>\n",
       "    </tr>\n",
       "    <tr>\n",
       "      <th>2004-08-20</th>\n",
       "      <td>54.322689</td>\n",
       "      <td>0.710922</td>\n",
       "      <td>6.739913</td>\n",
       "      <td>22834300.0</td>\n",
       "    </tr>\n",
       "    <tr>\n",
       "      <th>2004-08-23</th>\n",
       "      <td>54.869377</td>\n",
       "      <td>3.729433</td>\n",
       "      <td>-1.243144</td>\n",
       "      <td>18256100.0</td>\n",
       "    </tr>\n",
       "    <tr>\n",
       "      <th>2004-08-24</th>\n",
       "      <td>52.597363</td>\n",
       "      <td>6.417469</td>\n",
       "      <td>-6.074187</td>\n",
       "      <td>15247300.0</td>\n",
       "    </tr>\n",
       "    <tr>\n",
       "      <th>2004-08-25</th>\n",
       "      <td>53.164113</td>\n",
       "      <td>1.886792</td>\n",
       "      <td>1.169811</td>\n",
       "      <td>9188600.0</td>\n",
       "    </tr>\n",
       "  </tbody>\n",
       "</table>\n",
       "</div>"
      ],
      "text/plain": [
       "            Adj. Close    HL_PCT  PCT_change  Adj. Volume\n",
       "Date                                                     \n",
       "2004-08-19   50.322842  3.712563    0.323915   44659000.0\n",
       "2004-08-20   54.322689  0.710922    6.739913   22834300.0\n",
       "2004-08-23   54.869377  3.729433   -1.243144   18256100.0\n",
       "2004-08-24   52.597363  6.417469   -6.074187   15247300.0\n",
       "2004-08-25   53.164113  1.886792    1.169811    9188600.0"
      ]
     },
     "execution_count": 2,
     "metadata": {},
     "output_type": "execute_result"
    }
   ],
   "source": [
    "# Import and make the date column the index\n",
    "df = pd.read_csv('Google_Stock.csv', index_col = 'Date')\n",
    "\n",
    "# Create a datetidex\n",
    "df.index = pd.to_datetime(df.index)\n",
    "\n",
    "df.head()"
   ]
  },
  {
   "cell_type": "markdown",
   "metadata": {},
   "source": [
    "Let's create a 'Label' column which will contain the values which we are trying to predict. We will use the **.shift()** method to shift the values in the 'Adj. Close' column the number of spaces specified in the 'forecast_out' variable.\n",
    "\n",
    "The image below showa an example of how the **.shift()** method works:\n",
    "\n",
    "![](shift_example.png)"
   ]
  },
  {
   "cell_type": "code",
   "execution_count": 17,
   "metadata": {},
   "outputs": [
    {
     "data": {
      "text/html": [
       "<div>\n",
       "<style>\n",
       "    .dataframe thead tr:only-child th {\n",
       "        text-align: right;\n",
       "    }\n",
       "\n",
       "    .dataframe thead th {\n",
       "        text-align: left;\n",
       "    }\n",
       "\n",
       "    .dataframe tbody tr th {\n",
       "        vertical-align: top;\n",
       "    }\n",
       "</style>\n",
       "<table border=\"1\" class=\"dataframe\">\n",
       "  <thead>\n",
       "    <tr style=\"text-align: right;\">\n",
       "      <th></th>\n",
       "      <th>Adj. Close</th>\n",
       "      <th>HL_PCT</th>\n",
       "      <th>PCT_change</th>\n",
       "      <th>Adj. Volume</th>\n",
       "      <th>Label</th>\n",
       "    </tr>\n",
       "    <tr>\n",
       "      <th>Date</th>\n",
       "      <th></th>\n",
       "      <th></th>\n",
       "      <th></th>\n",
       "      <th></th>\n",
       "      <th></th>\n",
       "    </tr>\n",
       "  </thead>\n",
       "  <tbody>\n",
       "    <tr>\n",
       "      <th>2004-08-19</th>\n",
       "      <td>50.322842</td>\n",
       "      <td>3.712563</td>\n",
       "      <td>0.323915</td>\n",
       "      <td>44659000.0</td>\n",
       "      <td>91.281778</td>\n",
       "    </tr>\n",
       "    <tr>\n",
       "      <th>2004-08-20</th>\n",
       "      <td>54.322689</td>\n",
       "      <td>0.710922</td>\n",
       "      <td>6.739913</td>\n",
       "      <td>22834300.0</td>\n",
       "      <td>92.721222</td>\n",
       "    </tr>\n",
       "    <tr>\n",
       "      <th>2004-08-23</th>\n",
       "      <td>54.869377</td>\n",
       "      <td>3.729433</td>\n",
       "      <td>-1.243144</td>\n",
       "      <td>18256100.0</td>\n",
       "      <td>86.539640</td>\n",
       "    </tr>\n",
       "    <tr>\n",
       "      <th>2004-08-24</th>\n",
       "      <td>52.597363</td>\n",
       "      <td>6.417469</td>\n",
       "      <td>-6.074187</td>\n",
       "      <td>15247300.0</td>\n",
       "      <td>86.517070</td>\n",
       "    </tr>\n",
       "    <tr>\n",
       "      <th>2004-08-25</th>\n",
       "      <td>53.164113</td>\n",
       "      <td>1.886792</td>\n",
       "      <td>1.169811</td>\n",
       "      <td>9188600.0</td>\n",
       "      <td>84.029391</td>\n",
       "    </tr>\n",
       "  </tbody>\n",
       "</table>\n",
       "</div>"
      ],
      "text/plain": [
       "            Adj. Close    HL_PCT  PCT_change  Adj. Volume      Label\n",
       "Date                                                                \n",
       "2004-08-19   50.322842  3.712563    0.323915   44659000.0  91.281778\n",
       "2004-08-20   54.322689  0.710922    6.739913   22834300.0  92.721222\n",
       "2004-08-23   54.869377  3.729433   -1.243144   18256100.0  86.539640\n",
       "2004-08-24   52.597363  6.417469   -6.074187   15247300.0  86.517070\n",
       "2004-08-25   53.164113  1.886792    1.169811    9188600.0  84.029391"
      ]
     },
     "execution_count": 17,
     "metadata": {},
     "output_type": "execute_result"
    }
   ],
   "source": [
    "# Number of days to forecast\n",
    "forecast_out = 60\n",
    "\n",
    "# Shift 'forecast' up the amout of forecast_out in order to predict that many days into the future\n",
    "df['Label'] = df['Adj. Close'].shift(-forecast_out)\n",
    "\n",
    "df.head()"
   ]
  },
  {
   "cell_type": "markdown",
   "metadata": {},
   "source": [
    "Next we will remove the rows where the the 'Label' column was made NaN by the .shift() method and save them to forecast with later."
   ]
  },
  {
   "cell_type": "code",
   "execution_count": 18,
   "metadata": {},
   "outputs": [],
   "source": [
    "X = df.drop(['Label'], 1)\n",
    "\n",
    "# Save the most recent 'forecast_out' days to forecast with later\n",
    "X_lately = X[-forecast_out:]\n",
    "\n",
    "# Remove the most recent 'forecast_out' days where we don't have labels\n",
    "X = X[:-forecast_out]\n",
    "\n",
    "# labels\n",
    "y = df['Label'][:-forecast_out]"
   ]
  },
  {
   "cell_type": "markdown",
   "metadata": {},
   "source": [
    "Here we will partition up the training and testing sets as well as fit our model."
   ]
  },
  {
   "cell_type": "code",
   "execution_count": 19,
   "metadata": {},
   "outputs": [
    {
     "data": {
      "text/plain": [
       "0.96364194838245998"
      ]
     },
     "execution_count": 19,
     "metadata": {},
     "output_type": "execute_result"
    }
   ],
   "source": [
    "from sklearn import cross_validation\n",
    "from sklearn.linear_model import LinearRegression\n",
    "\n",
    "# partitioning up the training/testing data\n",
    "X_train, X_test, y_train, y_test = cross_validation.train_test_split(X, y, test_size = 0.2)\n",
    "\n",
    "# regressor\n",
    "regr = LinearRegression()\n",
    "\n",
    "# Train the regressor\n",
    "regr.fit(X_train, y_train)\n",
    "\n",
    "# Calculate the accuracy of the model (squared error in this case)\n",
    "accuracy = regr.score(X_test, y_test)\n",
    "\n",
    "accuracy"
   ]
  },
  {
   "cell_type": "markdown",
   "metadata": {},
   "source": [
    "### Make a plot of the model's forecast"
   ]
  },
  {
   "cell_type": "code",
   "execution_count": 20,
   "metadata": {},
   "outputs": [
    {
     "data": {
      "image/png": "[encoded data removed]",
      "text/plain": [
       "<matplotlib.figure.Figure at 0x114d42fd0>"
      ]
     },
     "metadata": {},
     "output_type": "display_data"
    }
   ],
   "source": [
    "from pandas.tseries.offsets import BDay # This will allow us to get the next business\n",
    "import matplotlib.pyplot as plt\n",
    "\n",
    "# Predoct on X_lately to make the forecasted predictions\n",
    "forecast_set = regr.predict(X_lately)\n",
    "\n",
    "# The first buisness day after the last day in the dataset\n",
    "first_forecast_day = df.index[-1] + BDay()\n",
    "\n",
    "# Fill in the rest of the days for the forecast index\n",
    "forecast_index = [first_forecast_day]\n",
    "for i in range(1, forecast_out):\n",
    "    forecast_index.append(forecast_index[i-1]+BDay())\n",
    "\n",
    "# Combine the forecast index with the forecast values\n",
    "forecast = pd.Series(forecast_set, index = forecast_index)\n",
    "\n",
    "# plot\n",
    "df['Adj. Close'].plot()\n",
    "forecast.plot()\n",
    "plt.legend(['Adj. Close', 'Forecast'])\n",
    "plt.xlabel('Date')\n",
    "plt.ylabel('Price')\n",
    "plt.show()"
   ]
  },
  {
   "cell_type": "code",
   "execution_count": null,
   "metadata": {
    "collapsed": true
   },
   "outputs": [],
   "source": []
  }
 ],
 "metadata": {
  "kernelspec": {
   "display_name": "Python 3",
   "language": "python",
   "name": "python3"
  },
  "language_info": {
   "codemirror_mode": {
    "name": "ipython",
    "version": 3
   },
   "file_extension": ".py",
   "mimetype": "text/x-python",
   "name": "python",
   "nbconvert_exporter": "python",
   "pygments_lexer": "ipython3",
   "version": "3.6.0"
  }
 },
 "nbformat": 4,
 "nbformat_minor": 2
}
